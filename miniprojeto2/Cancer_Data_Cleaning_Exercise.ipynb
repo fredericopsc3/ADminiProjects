{
 "cells": [
  {
   "cell_type": "code",
   "execution_count": null,
   "id": "c62da827",
   "metadata": {},
   "outputs": [],
   "source": [
    "import pandas as pd\n",
    "import matplotlib.pyplot as plt\n",
    "import seaborn as sns\n",
    "\n",
    "# Load the CSV with explicit NA values control\n",
    "cancer_df = pd.read_csv('_cancer_dataset_uae.csv', keep_default_na=False, na_values=['', 'N/A'])"
   ]
  },
  {
   "cell_type": "markdown",
   "id": "a5756349",
   "metadata": {},
   "source": [
    "## 1. Load and Explore the Dataset"
   ]
  },
  {
   "cell_type": "code",
   "execution_count": null,
   "id": "7a170d55",
   "metadata": {},
   "outputs": [],
   "source": [
    "# Display the first 5 rows\n",
    "print(\"Preview of Data:\")\n",
    "print(cancer_df.head())\n",
    "\n",
    "# Check data structure and types\n",
    "print(\"\\nDataset Info:\")\n",
    "print(cancer_df.info())"
   ]
  },
  {
   "cell_type": "code",
   "execution_count": null,
   "id": "64a28934",
   "metadata": {},
   "outputs": [],
   "source": [
    "# Display summary statistics\n",
    "summary_stats = cancer_df.describe()\n",
    "print(\"Summary Statistics:\")\n",
    "print(summary_stats)"
   ]
  },
  {
   "cell_type": "code",
   "execution_count": null,
   "id": "83b2d1dd",
   "metadata": {},
   "outputs": [],
   "source": [
    "# Count missing values per column\n",
    "print(\"\\nMissing Values:\")\n",
    "print(cancer_df.isnull().sum())"
   ]
  },
  {
   "cell_type": "markdown",
   "id": "558bb33d",
   "metadata": {},
   "source": [
    "## 2. Handling Missing Values"
   ]
  },
  {
   "cell_type": "code",
   "execution_count": null,
   "id": "29fe007e",
   "metadata": {},
   "outputs": [],
   "source": [
    "# Determine the percentage of missing values in each column\n",
    "missing_percentage = (cancer_df.isnull().sum() / len(cancer_df)) * 100\n",
    "print(\"\\nPercentage of Missing Values in each column:\")\n",
    "print(missing_percentage)\n",
    "\n",
    "# Impute missing values\n",
    "cancer_df['Cause_of_Death'] = cancer_df['Cause_of_Death'].fillna('Alive')"
   ]
  },
  {
   "cell_type": "markdown",
   "id": "3c5cc23e",
   "metadata": {},
   "source": [
    "## 3. Identifying Outliers using IQR and Visualizing"
   ]
  },
  {
   "cell_type": "code",
   "execution_count": null,
   "id": "7e43c0d6",
   "metadata": {},
   "outputs": [],
   "source": [
    "for column in ['Age', 'Weight', 'Height']:\n",
    "    Q1 = cancer_df[column].quantile(0.25)\n",
    "    Q3 = cancer_df[column].quantile(0.75)\n",
    "    IQR = Q3 - Q1\n",
    "    lower_bound = Q1 - 1.5 * IQR\n",
    "    upper_bound = Q3 + 1.5 * IQR\n",
    "    outliers = cancer_df[(cancer_df[column] < lower_bound) | (cancer_df[column] > upper_bound)]\n",
    "    print(f\"{column}:\")\n",
    "    print(len(outliers))\n",
    "\n",
    "    plt.figure(figsize=(8, 5))\n",
    "    sns.boxplot(x=cancer_df[column])\n",
    "    plt.title(f\"Box Plot for {column} Outlier Detection\")\n",
    "    plt.show()"
   ]
  },
  {
   "cell_type": "markdown",
   "id": "7fb0d050",
   "metadata": {},
   "source": [
    "## 4. Handling Outliers"
   ]
  },
  {
   "cell_type": "code",
   "execution_count": null,
   "id": "5834a1fb",
   "metadata": {},
   "outputs": [],
   "source": [
    "for column in ['Age', 'Weight', 'Height']:\n",
    "    Q1 = cancer_df[column].quantile(0.25)\n",
    "    Q3 = cancer_df[column].quantile(0.75)\n",
    "    IQR = Q3 - Q1\n",
    "    lower_bound = Q1 - 1.5 * IQR\n",
    "    upper_bound = Q3 + 1.5 * IQR\n",
    "    outliers_filtered = cancer_df[(cancer_df[column] <= lower_bound) & (cancer_df[column] >= upper_bound)]\n",
    "    print(\"\\nAfter Handling Outliers:\")\n",
    "    print(f\"{column}:\")\n",
    "    print(len(outliers_filtered))"
   ]
  }
 ],
 "metadata": {},
 "nbformat": 4,
 "nbformat_minor": 5
}
